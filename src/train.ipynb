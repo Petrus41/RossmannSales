{
 "cells": [
  {
   "cell_type": "markdown",
   "metadata": {
    "deletable": true,
    "editable": true
   },
   "source": [
    "# Initialisation\n",
    "\n",
    "Import libraries, load setting and load data."
   ]
  },
  {
   "cell_type": "code",
   "execution_count": 1,
   "metadata": {
    "collapsed": false,
    "deletable": true,
    "editable": true
   },
   "outputs": [
    {
     "name": "stdout",
     "output_type": "stream",
     "text": [
      "Settings loaded.\n",
      "Store information: 1115 lines loaded\n",
      "Training data: 1017209 lines loaded\n",
      "[1, 'c', 'a', 1270, 9, 2008, 0, -1, -1, '']\n"
     ]
    }
   ],
   "source": [
    "import numpy as np\n",
    "import json\n",
    "import datetime\n",
    "import pickle\n",
    "from sklearn import linear_model, kernel_ridge, tree\n",
    "\n",
    "import utils\n",
    "\n",
    "\n",
    "path_base = \"../\"\n",
    "\n",
    "# Load settings\n",
    "with open(path_base+\"SETTINGS.json\", 'r') as fid:\n",
    "    settings = json.load(fid)\n",
    "    print(\"Settings loaded.\")\n",
    "    \n",
    "# Load store info\n",
    "store_info = utils.loadStoreInfo(path_base+settings[\"STORE_INFO_PATH\"])\n",
    "print(\"Store information: {} lines loaded\".format(len(store_info)))\n",
    "\n",
    "# Load training data\n",
    "(input_data, output_sales, output_customers) = utils.loadTrainingData(path_base+settings[\"TRAIN_DATA_PATH\"])\n",
    "print(\"Training data: {} lines loaded\".format(len(input_data)))\n",
    "\n",
    "print(store_info[0])"
   ]
  },
  {
   "cell_type": "markdown",
   "metadata": {
    "collapsed": true,
    "deletable": true,
    "editable": true
   },
   "source": [
    "# 1. Creation of the features\n",
    "\n",
    "Here we define the functions that generates vectors of $\\mathbb{R}^{D}$ from the entries."
   ]
  },
  {
   "cell_type": "code",
   "execution_count": 10,
   "metadata": {
    "collapsed": false,
    "deletable": true,
    "editable": true
   },
   "outputs": [],
   "source": [
    "# Define dimension of the feature space\n",
    "D = 38\n",
    "\n",
    "\n",
    "def generateFeatureVector(entry):\n",
    "    vector = np.zeros((D))\n",
    "    \n",
    "    ## Day features: \n",
    "    \n",
    "    # Features 0 to 6: Day of the week\n",
    "    vector[entry[1]-1] = 1.0\n",
    "    \n",
    "    # Feature 7: beginning of the month i.e. day in [1;10]\n",
    "    if entry[2].day <= 10:\n",
    "        vector[7] = 1.0\n",
    "        \n",
    "    # Feature 8: middle of the month i.e. day in [11;20]\n",
    "    if entry[2].day > 10 and entry[2].day <= 20:\n",
    "        vector[8] = 1.0\n",
    "        \n",
    "    # Feature 9: end of the month i.e. day > 20\n",
    "    if entry[2].day > 20:\n",
    "        vector[9] = 1.0\n",
    "        \n",
    "    # Features 10 to 21: month of the year\n",
    "    vector[9+entry[2].month] = 1.0\n",
    "    \n",
    "    # Feature 22: is the store open on that day ?\n",
    "    if entry[3] == 1:\n",
    "        vector[22] = 1.0\n",
    "        \n",
    "    # Feature 23: promo ?\n",
    "    if entry[4] == 1:\n",
    "        vector[23] = 1.0\n",
    "        \n",
    "    # Feature 24: public holiday\n",
    "    if entry[5] == 'a':\n",
    "        vector[24] = 1.0\n",
    "    \n",
    "    # Feature 25: Easter\n",
    "    if entry[5] == 'b':\n",
    "        vector[25] = 1.0\n",
    "        \n",
    "    # Feature 26: Christmas\n",
    "    if entry[5] == 'c':\n",
    "        vector[26] = 1.0\n",
    "        \n",
    "    # Feature 27: School holiday\n",
    "    if entry[6] == '1':\n",
    "        vector[27] = 1.0\n",
    "        \n",
    "    \n",
    "    ## Store Features:\n",
    "    # Features 28-31: store type\n",
    "    if store_info[entry[0]-1][1] == 'a':\n",
    "        vector[28] = 1.0\n",
    "    elif store_info[entry[0]-1][1] == 'b':\n",
    "        vector[29] = 1.0\n",
    "    elif store_info[entry[0]-1][1] == 'c':\n",
    "        vector[30] = 1.0\n",
    "    else:\n",
    "        vector[31] = 1.0\n",
    "        \n",
    "    # Features 32-34: Assortment\n",
    "    if store_info[entry[0]-1][2] == 'a':\n",
    "        vector[32] = 1.0\n",
    "    elif store_info[entry[0]-1][2] == 'b':\n",
    "        vector[33] = 1.0\n",
    "    else:\n",
    "        vector[34] = 1.0\n",
    "        \n",
    "    # Feature 35: Competition Distance \n",
    "    vector[35] = store_info[entry[0]-1][3]\n",
    "    \n",
    "    # Feature 36: Days since competition started (>0)\n",
    "    if store_info[entry[0]-1][4] != -1:\n",
    "        starting_day = datetime.date(\n",
    "            store_info[entry[0]-1][5],  # Year\n",
    "            store_info[entry[0]-1][4],  # Month\n",
    "            1)                          # Day (no data, so 1 by default)\n",
    "\n",
    "        delta = entry[2] - starting_day\n",
    "        if delta.days > 0:\n",
    "            vector[36] = delta.days\n",
    "        \n",
    "    # Feature 37: Promo2\n",
    "    vector[37] = store_info[entry[0]-1][6]\n",
    "    \n",
    "    return vector"
   ]
  },
  {
   "cell_type": "markdown",
   "metadata": {
    "deletable": true,
    "editable": true
   },
   "source": [
    "# 2. Creation of the training set / test set\n"
   ]
  },
  {
   "cell_type": "code",
   "execution_count": 11,
   "metadata": {
    "collapsed": false,
    "deletable": true,
    "editable": true
   },
   "outputs": [
    {
     "name": "stdout",
     "output_type": "stream",
     "text": [
      "Dimensions of the training set: (813767,38)\n",
      "Dimensions of the test set: (203442,38)\n",
      "[  0.00000000e+00   0.00000000e+00   0.00000000e+00   1.00000000e+00\n",
      "   0.00000000e+00   0.00000000e+00   0.00000000e+00   0.00000000e+00\n",
      "   1.00000000e+00   0.00000000e+00   0.00000000e+00   0.00000000e+00\n",
      "   0.00000000e+00   0.00000000e+00   0.00000000e+00   1.00000000e+00\n",
      "   0.00000000e+00   0.00000000e+00   0.00000000e+00   0.00000000e+00\n",
      "   0.00000000e+00   0.00000000e+00   1.00000000e+00   1.00000000e+00\n",
      "   0.00000000e+00   0.00000000e+00   0.00000000e+00   0.00000000e+00\n",
      "   1.00000000e+00   0.00000000e+00   0.00000000e+00   0.00000000e+00\n",
      "   1.00000000e+00   0.00000000e+00   0.00000000e+00   2.38000000e+03\n",
      "   3.27600000e+03   1.00000000e+00]\n",
      "[89, 4, datetime.date(2013, 6, 20), 1, 1, '0', '0']\n",
      "0.0\n",
      "1.0\n"
     ]
    }
   ],
   "source": [
    "pourcentage_training_set = 80\n",
    "\n",
    "# Split the entries into training data and test data\n",
    "(tr_input, tr_label_sales, tr_label_customers,\n",
    "     te_input, te_label_sales, te_label_customers) = utils.separateTrainingSet(\n",
    "        input_data,\n",
    "        output_sales, \n",
    "        output_customers,\n",
    "        pourcentage_training_set)\n",
    "\n",
    "# Convert the labels into Numpy arrays\n",
    "training_labels = np.array(tr_label_sales)\n",
    "test_labels = np.array(te_label_sales)\n",
    "\n",
    "N = training_labels.shape[0]\n",
    "N_test = test_labels.shape[0]\n",
    "\n",
    "# Generate features of data set and test set\n",
    "training_set = np.zeros((N,D))\n",
    "for i in range(N):\n",
    "    training_set[i,:] = generateFeatureVector(tr_input[i])\n",
    "    \n",
    "test_set = np.zeros((N_test, D))\n",
    "for i in range(N_test):\n",
    "    test_set[i,:] = generateFeatureVector(te_input[i])\n",
    "    \n",
    "\n",
    "# Summary\n",
    "print(\"Dimensions of the training set: ({},{})\".format(\n",
    "        training_set.shape[0], training_set.shape[1]))\n",
    "print(\"Dimensions of the test set: ({},{})\".format(\n",
    "        test_set.shape[0], test_set.shape[1]))\n",
    "\n",
    "print(training_set[0,:])\n",
    "print(tr_input[0])\n",
    "print(training_set[:,4].min())\n",
    "print(training_set[:,4].max())\n"
   ]
  },
  {
   "cell_type": "markdown",
   "metadata": {
    "deletable": true,
    "editable": true
   },
   "source": [
    "# 3. Model training\n",
    "\n",
    "### Linear regression\n",
    "\n",
    "First, we test a simple linear regression, we expect it to perform poorly because of outliers."
   ]
  },
  {
   "cell_type": "code",
   "execution_count": 12,
   "metadata": {
    "collapsed": false,
    "deletable": true,
    "editable": true,
    "scrolled": true
   },
   "outputs": [
    {
     "name": "stdout",
     "output_type": "stream",
     "text": [
      "RMSPE avec la moyenne: 0.473894537235089\n",
      "Coefficients: \n",
      "[ -2.78114898e+11  -2.78114899e+11  -2.78114899e+11  -2.78114899e+11\n",
      "  -2.78114899e+11  -2.78114899e+11  -2.78114898e+11   7.08737767e+01\n",
      "  -6.34429678e+01  -7.53454185e+00  -2.75682655e+02  -2.41113261e+02\n",
      "  -5.47802172e+01   6.42614628e+01   1.22036397e+02   5.58720365e+01\n",
      "  -1.46361087e+02  -3.77771636e+02  -3.54348325e+02  -2.98751505e+02\n",
      "   1.38649499e+02   1.36803499e+03   6.59189541e+03   2.23516820e+03\n",
      "  -7.77244298e+01  -1.16148470e+03  -6.21613036e+02   2.86666451e+02\n",
      "  -1.15325909e+03   3.71660701e+03  -1.24238545e+03  -1.32099790e+03\n",
      "   7.50030742e+02  -2.20061603e+03   1.45059353e+03  -1.97143555e-02\n",
      "   1.17187500e-02  -6.29538822e+02]\n",
      "[ -259.67272949  -762.80987549   162.51940918  7470.62182617  8026.99810791\n",
      "  4619.69616699  8064.4364624   5309.05963135   272.81811523  5191.47558594\n",
      "  6832.00323486  5513.52990723  7622.22991943  8275.05871582  8282.97821045\n",
      "  5703.82165527  7407.6038208   6360.90283203  8632.44158936  7829.79290771]\n",
      "[    0     0     0  3515  7511  6922  2967  5419     0  5161  6798  3360\n",
      "  7603 10449  7721  6211 13599  7328  8311  7852]\n",
      "Linear regression without normalisation: RMSPE = 0.4987450439451127\n",
      "Linear regression with normalisation: RMSPE = 0.4985665987627794\n"
     ]
    }
   ],
   "source": [
    "print(\"RMSPE avec la moyenne: {}\".format(\n",
    "    utils.compute_RMSPE(test_labels, training_labels.mean()*np.ones((test_labels.shape[0])))))\n",
    "\n",
    "# Linear regression without normalization\n",
    "model_linreg = linear_model.LinearRegression()\n",
    "model_linreg.fit(training_set, training_labels)\n",
    "\n",
    "print(\"Coefficients: \")\n",
    "print(model_linreg.coef_)\n",
    "\n",
    "y_hat = model_linreg.predict(test_set)\n",
    "print(y_hat[:20])\n",
    "print(test_labels[:20])\n",
    "\n",
    "\n",
    "print(\"Linear regression without normalisation: RMSPE = {}\".format(\n",
    "    utils.compute_RMSPE(test_labels, y_hat)))\n",
    "\n",
    "# Linear regression with normalization\n",
    "model_linreg_n = linear_model.LinearRegression(fit_intercept=True,normalize=True,n_jobs=2)\n",
    "model_linreg_n.fit(training_set, training_labels)\n",
    "\n",
    "y_hat_n = model_linreg_n.predict(test_set)\n",
    "\n",
    "print(\"Linear regression with normalisation: RMSPE = {}\".format(\n",
    "    utils.compute_RMSPE(test_labels, y_hat_n)))\n"
   ]
  },
  {
   "cell_type": "markdown",
   "metadata": {
    "collapsed": true,
    "deletable": true,
    "editable": true
   },
   "source": [
    "The order of magnitude of the RMSPE with linear regression is 0.45, slightly better than just predicting the mean value of the sales in the training set. \n",
    "\n",
    "### Ridge regression\n",
    "\n",
    "Then, a more complicated model: a ridge regression to handle outliers. "
   ]
  },
  {
   "cell_type": "code",
   "execution_count": 13,
   "metadata": {
    "collapsed": false,
    "deletable": true,
    "editable": true
   },
   "outputs": [
    {
     "name": "stdout",
     "output_type": "stream",
     "text": [
      "Hyperparameter selected: alpha = 0.0001\n",
      "Ridge regression with normalisation: RMSPE = 0.49867351629144274\n"
     ]
    }
   ],
   "source": [
    "model_ridgereg = linear_model.RidgeCV(\n",
    "    alphas = [0.0001,0.001,0.003,0.01,0.1,1.0,10],\n",
    "    normalize=True)\n",
    "\n",
    "model_ridgereg.fit(training_set, training_labels)\n",
    "\n",
    "print(\"Hyperparameter selected: alpha = {}\".format(\n",
    "    model_ridgereg.alpha_))\n",
    "\n",
    "y_hat_rr = model_ridgereg.predict(test_set)\n",
    "\n",
    "print(\"Ridge regression with normalisation: RMSPE = {}\".format(\n",
    "    utils.compute_RMSPE(test_labels, y_hat_rr)))"
   ]
  },
  {
   "cell_type": "markdown",
   "metadata": {
    "collapsed": true,
    "deletable": true,
    "editable": true
   },
   "source": [
    "### Kernel Ridge Regression\n",
    "Then a regression with different kernels to better handle non-linearities"
   ]
  },
  {
   "cell_type": "code",
   "execution_count": 15,
   "metadata": {
    "collapsed": false,
    "deletable": true,
    "editable": true
   },
   "outputs": [
    {
     "name": "stdout",
     "output_type": "stream",
     "text": [
      "Kernel ridge regression with normalisation: RMSPE = 1.9769184708763692\n"
     ]
    }
   ],
   "source": [
    "#model_kridge = kernel_ridge.KernelRidge(alpha=0.001,kernel='rbf',gamma=0.01)\n",
    "#model_kridge = kernel_ridge.KernelRidge(alpha=0.001,kernel='rbf',gamma=0.0001)\n",
    "\n",
    "#model_kridge = kernel_ridge.KernelRidge(alpha=0.001,kernel='rbf',gamma=0.001)\n",
    "\n",
    "#model_kridge = kernel_ridge.KernelRidge(alpha=0.001,kernel='linear',degree=3, coef0=1)\n",
    "\n",
    "model_kridge = kernel_ridge.KernelRidge(alpha=0.001,kernel=\"sigmoid\", gamma=0.0002, coef0=0.00001)\n",
    "\n",
    "# Normalize dataset\n",
    "data_means = training_set.mean(axis=0)\n",
    "data_std = training_set.std(axis=0)\n",
    "\n",
    "n_training_set = np.zeros(training_set.shape)\n",
    "n_test_set = np.zeros(test_set.shape)\n",
    "\n",
    "for i in range(training_set.shape[0]):\n",
    "    n_training_set[i,:] = (training_set[i,:]-data_means)/data_std\n",
    "    \n",
    "for i in range(test_set.shape[0]):\n",
    "    n_test_set[i,:] = (test_set[i,:]-data_means)/data_std\n",
    "\n",
    "\"\"\"\n",
    "del training_set\n",
    "del test_set\n",
    "del input_data\n",
    "del te_input\n",
    "del tr_input\n",
    "\"\"\"\n",
    "\n",
    "# Train model\n",
    "model_kridge.fit(n_training_set[:200,:], training_labels[:200])\n",
    "\n",
    "# Evaluate model\n",
    "y_hat_kridge = model_kridge.predict(n_test_set)\n",
    "\n",
    "print(\"Kernel ridge regression with normalisation: RMSPE = {}\".format(\n",
    "    utils.compute_RMSPE(test_labels, y_hat_kridge)))\n"
   ]
  },
  {
   "cell_type": "markdown",
   "metadata": {
    "collapsed": true,
    "deletable": true,
    "editable": true
   },
   "source": [
    "# Decision Tree Regression\n"
   ]
  },
  {
   "cell_type": "code",
   "execution_count": 21,
   "metadata": {
    "collapsed": false
   },
   "outputs": [
    {
     "name": "stdout",
     "output_type": "stream",
     "text": [
      "Decision tree regression: RMSPE = 0.2711855296082456\n"
     ]
    }
   ],
   "source": [
    "# Create model\n",
    "model_tree = tree.DecisionTreeRegressor(max_depth=20)\n",
    "\n",
    "# Train model\n",
    "model_tree.fit(training_set, training_labels)\n",
    "\n",
    "# Evaluate model\n",
    "y_hat_tree = model_tree.predict(test_set)\n",
    "\n",
    "print(\"Decision tree regression: RMSPE = {}\".format(\n",
    "    utils.compute_RMSPE(test_labels, y_hat_tree)))\n"
   ]
  },
  {
   "cell_type": "markdown",
   "metadata": {
    "deletable": true,
    "editable": true
   },
   "source": [
    "# Save model\n",
    "We save the model using pickle."
   ]
  },
  {
   "cell_type": "code",
   "execution_count": 22,
   "metadata": {
    "collapsed": false,
    "deletable": true,
    "editable": true
   },
   "outputs": [],
   "source": [
    "with open(path_base+settings[\"MODEL_PATH\"], \"wb\") as fid:\n",
    "    mpk = pickle.Pickler(fid)\n",
    "    mpk.dump(model_tree)\n"
   ]
  },
  {
   "cell_type": "code",
   "execution_count": null,
   "metadata": {
    "collapsed": true,
    "deletable": true,
    "editable": true
   },
   "outputs": [],
   "source": []
  }
 ],
 "metadata": {
  "kernelspec": {
   "display_name": "Python 3",
   "language": "python",
   "name": "python3"
  },
  "language_info": {
   "codemirror_mode": {
    "name": "ipython",
    "version": 3
   },
   "file_extension": ".py",
   "mimetype": "text/x-python",
   "name": "python",
   "nbconvert_exporter": "python",
   "pygments_lexer": "ipython3",
   "version": "3.5.2"
  }
 },
 "nbformat": 4,
 "nbformat_minor": 2
}
