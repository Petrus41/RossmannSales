{
 "cells": [
  {
   "cell_type": "markdown",
   "metadata": {
    "deletable": true,
    "editable": true
   },
   "source": [
    "# Initialisation\n",
    "\n",
    "Import libraries, load setting and load data."
   ]
  },
  {
   "cell_type": "code",
   "execution_count": 1,
   "metadata": {
    "collapsed": false,
    "deletable": true,
    "editable": true
   },
   "outputs": [
    {
     "name": "stdout",
     "output_type": "stream",
     "text": [
      "Settings loaded.\n",
      "Store information: 1115 lines loaded\n",
      "Training data: 1017209 lines loaded\n"
     ]
    }
   ],
   "source": [
    "import numpy as np\n",
    "import json\n",
    "from sklearn import linear_model\n",
    "\n",
    "import utils\n",
    "\n",
    "\n",
    "path_base = \"../\"\n",
    "\n",
    "# Load settings\n",
    "with open(path_base+\"SETTINGS.json\", 'r') as fid:\n",
    "    settings = json.load(fid)\n",
    "    print(\"Settings loaded.\")\n",
    "    \n",
    "# Load store info\n",
    "store_info = utils.loadStoreInfo(path_base+settings[\"STORE_INFO_PATH\"])\n",
    "print(\"Store information: {} lines loaded\".format(len(store_info)))\n",
    "\n",
    "# Load training data\n",
    "(input_data, output_sales, output_customers) = utils.loadTrainingData(path_base+settings[\"TRAIN_DATA_PATH\"])\n",
    "print(\"Training data: {} lines loaded\".format(len(input_data)))"
   ]
  },
  {
   "cell_type": "markdown",
   "metadata": {
    "collapsed": true,
    "deletable": true,
    "editable": true
   },
   "source": [
    "# 1. Creation of the features\n",
    "\n",
    "Here we define the functions that generates vectors of $\\mathbb{R}^{D}$ from the entries."
   ]
  },
  {
   "cell_type": "code",
   "execution_count": 2,
   "metadata": {
    "collapsed": false,
    "deletable": true,
    "editable": true
   },
   "outputs": [],
   "source": [
    "# Define dimension of the feature space\n",
    "D = 5\n",
    "\n",
    "def generateFeatureVector(entry):\n",
    "    vector = np.array([\n",
    "        entry[1],                    # Day of week\n",
    "        entry[2].day,                # Day of month\n",
    "        entry[2].month,              # Month\n",
    "        entry[2].year,               # Year\n",
    "        entry[4]                     # Promo\n",
    "    ])\n",
    "    \n",
    "    return vector\n"
   ]
  },
  {
   "cell_type": "markdown",
   "metadata": {
    "deletable": true,
    "editable": true
   },
   "source": [
    "# 2. Creation of the training set / test set\n"
   ]
  },
  {
   "cell_type": "code",
   "execution_count": 9,
   "metadata": {
    "collapsed": false,
    "deletable": true,
    "editable": true
   },
   "outputs": [
    {
     "name": "stdout",
     "output_type": "stream",
     "text": [
      "Dimensions of the training set: (813767,5)\n",
      "Dimensions of the test set: (203442,5)\n",
      "[    3.    18.     9.  2013.     0.]\n"
     ]
    }
   ],
   "source": [
    "pourcentage_training_set = 80\n",
    "\n",
    "# Split the entries into training data and test data\n",
    "(tr_input, tr_label_sales, tr_label_customers,\n",
    "     te_input, te_label_sales, te_label_customers) = utils.separateTrainingSet(\n",
    "        input_data,\n",
    "        output_sales, \n",
    "        output_customers,\n",
    "        pourcentage_training_set)\n",
    "\n",
    "# Convert the labels into Numpy arrays\n",
    "training_labels = np.array(tr_label_sales)\n",
    "test_labels = np.array(te_label_sales)\n",
    "\n",
    "N = training_labels.shape[0]\n",
    "N_test = test_labels.shape[0]\n",
    "\n",
    "# Generate features of data set and test set\n",
    "training_set = np.zeros((N,D))\n",
    "for i in range(N):\n",
    "    training_set[i,:] = generateFeatureVector(tr_input[i])\n",
    "    \n",
    "test_set = np.zeros((N_test, D))\n",
    "for i in range(N_test):\n",
    "    test_set[i,:] = generateFeatureVector(te_input[i])\n",
    "    \n",
    "\n",
    "# Summary\n",
    "print(\"Dimensions of the training set: ({},{})\".format(\n",
    "        training_set.shape[0], training_set.shape[1]))\n",
    "print(\"Dimensions of the test set: ({},{})\".format(\n",
    "        test_set.shape[0], test_set.shape[1]))\n",
    "\n",
    "print(training_set[0,:])\n"
   ]
  },
  {
   "cell_type": "markdown",
   "metadata": {
    "deletable": true,
    "editable": true
   },
   "source": [
    "# 3. Model training\n",
    "\n",
    "### Linear regression\n",
    "\n",
    "First, we test a simple linear regression, we expect it to perform poorly because of outliers."
   ]
  },
  {
   "cell_type": "code",
   "execution_count": 13,
   "metadata": {
    "collapsed": false,
    "deletable": true,
    "editable": true,
    "scrolled": true
   },
   "outputs": [
    {
     "name": "stdout",
     "output_type": "stream",
     "text": [
      "RMSPE avec la moyenne: 0.47578643688932665\n",
      "Coefficients: \n",
      "[ -644.78175258    10.74656958    67.62666673   160.43544296  2561.97327287]\n",
      "Linear regression without normalisation: RMSPE = 0.4420407944318239\n",
      "Linear regression with normalisation: RMSPE = 0.4420407944317316\n"
     ]
    }
   ],
   "source": [
    "print(\"RMSPE avec la moyenne: {}\".format(\n",
    "    utils.compute_RMSPE(test_labels, training_labels.mean()*np.ones((test_labels.shape[0])))))\n",
    "\n",
    "# Linear regression without normalization\n",
    "model_linreg = linear_model.LinearRegression()\n",
    "model_linreg.fit(training_set, training_labels)\n",
    "\n",
    "print(\"Coefficients: \")\n",
    "print(model_linreg.coef_)\n",
    "\n",
    "y_hat = model_linreg.predict(test_set)\n",
    "\n",
    "print(\"Linear regression without normalisation: RMSPE = {}\".format(\n",
    "    utils.compute_RMSPE(test_labels, y_hat)))\n",
    "\n",
    "# Linear regression with normalization\n",
    "model_linreg_n = linear_model.LinearRegression(fit_intercept=True,normalize=True,n_jobs=2)\n",
    "model_linreg_n.fit(training_set, training_labels)\n",
    "\n",
    "y_hat_n = model_linreg_n.predict(test_set)\n",
    "\n",
    "print(\"Linear regression with normalisation: RMSPE = {}\".format(\n",
    "    utils.compute_RMSPE(test_labels, y_hat_n)))\n"
   ]
  },
  {
   "cell_type": "markdown",
   "metadata": {
    "collapsed": true,
    "deletable": true,
    "editable": true
   },
   "source": [
    "The order of magnitude of the RMSPE with linear regression is 0.45, slightly better than just predicting the mean value of the sales in the training set. \n",
    "\n",
    "### Ridge regression\n",
    "\n",
    "Then, a more complicated model: a ridge regression to handle outliers. "
   ]
  },
  {
   "cell_type": "code",
   "execution_count": 18,
   "metadata": {
    "collapsed": false
   },
   "outputs": [
    {
     "name": "stdout",
     "output_type": "stream",
     "text": [
      "Hyperparameter selected: alpha = 0.001\n",
      "Ridge regression with normalisation: RMSPE = 0.4419641337685197\n"
     ]
    }
   ],
   "source": [
    "model_ridgereg = linear_model.RidgeCV(\n",
    "    alphas = [0.001,0.01,0.1,1.0,10],\n",
    "    normalize=True)\n",
    "\n",
    "model_ridgereg.fit(training_set, training_labels)\n",
    "\n",
    "print(\"Hyperparameter selected: alpha = {}\".format(\n",
    "    model_ridgereg.alpha_))\n",
    "\n",
    "y_hat_rr = model_ridgereg.predict(test_set)\n",
    "\n",
    "print(\"Ridge regression with normalisation: RMSPE = {}\".format(\n",
    "    utils.compute_RMSPE(test_labels, y_hat_rr)))"
   ]
  },
  {
   "cell_type": "code",
   "execution_count": null,
   "metadata": {
    "collapsed": true
   },
   "outputs": [],
   "source": []
  }
 ],
 "metadata": {
  "kernelspec": {
   "display_name": "Python 3",
   "language": "python",
   "name": "python3"
  },
  "language_info": {
   "codemirror_mode": {
    "name": "ipython",
    "version": 3
   },
   "file_extension": ".py",
   "mimetype": "text/x-python",
   "name": "python",
   "nbconvert_exporter": "python",
   "pygments_lexer": "ipython3",
   "version": "3.5.2"
  }
 },
 "nbformat": 4,
 "nbformat_minor": 2
}
