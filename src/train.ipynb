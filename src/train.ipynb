{
 "cells": [
  {
   "cell_type": "markdown",
   "metadata": {
    "deletable": true,
    "editable": true
   },
   "source": [
    "# Initialisation\n",
    "\n",
    "Import libraries, load setting and load data."
   ]
  },
  {
   "cell_type": "code",
   "execution_count": 2,
   "metadata": {
    "collapsed": false,
    "deletable": true,
    "editable": true
   },
   "outputs": [
    {
     "name": "stdout",
     "output_type": "stream",
     "text": [
      "Settings loaded.\n",
      "Store information: 1115 lines loaded\n",
      "Training data: 1017209 lines loaded\n",
      "[1, 'c', 'a', 1270, 9, 2008, 0, -1, -1, '']\n"
     ]
    }
   ],
   "source": [
    "import numpy as np\n",
    "import json\n",
    "import datetime\n",
    "import pickle\n",
    "from sklearn import linear_model, kernel_ridge\n",
    "\n",
    "import utils\n",
    "\n",
    "\n",
    "path_base = \"../\"\n",
    "\n",
    "# Load settings\n",
    "with open(path_base+\"SETTINGS.json\", 'r') as fid:\n",
    "    settings = json.load(fid)\n",
    "    print(\"Settings loaded.\")\n",
    "    \n",
    "# Load store info\n",
    "store_info = utils.loadStoreInfo(path_base+settings[\"STORE_INFO_PATH\"])\n",
    "print(\"Store information: {} lines loaded\".format(len(store_info)))\n",
    "\n",
    "# Load training data\n",
    "(input_data, output_sales, output_customers) = utils.loadTrainingData(path_base+settings[\"TRAIN_DATA_PATH\"])\n",
    "print(\"Training data: {} lines loaded\".format(len(input_data)))\n",
    "\n",
    "print(store_info[0])"
   ]
  },
  {
   "cell_type": "markdown",
   "metadata": {
    "collapsed": true,
    "deletable": true,
    "editable": true
   },
   "source": [
    "# 1. Creation of the features\n",
    "\n",
    "Here we define the functions that generates vectors of $\\mathbb{R}^{D}$ from the entries."
   ]
  },
  {
   "cell_type": "code",
   "execution_count": 3,
   "metadata": {
    "collapsed": false,
    "deletable": true,
    "editable": true
   },
   "outputs": [],
   "source": [
    "# Long version for non-kernel models\n",
    "\n",
    "\n",
    "# Define dimension of the feature space\n",
    "D = 15\n",
    "\n",
    "\n",
    "def generateFeatureVector(entry):\n",
    "    ################################## Local functions\n",
    "    \n",
    "    # Local function to convert store asortment\n",
    "    def ConvertAsortment(assortment):\n",
    "        if assortment == \"a\":\n",
    "            return 1\n",
    "        elif assortment == \"b\":\n",
    "            return 2\n",
    "        else:\n",
    "            return 3\n",
    "        \n",
    "    def GetCompetTime(entry):\n",
    "        if store_info[entry[0]-1][4] == -1:\n",
    "            return 0   # No entry available\n",
    "        else:\n",
    "            competition_start = datetime.date(\n",
    "                store_info[entry[0]-1][5],  # Year\n",
    "                store_info[entry[0]-1][4],  # Month\n",
    "                1)                          # Day (no entry available)\n",
    "            \n",
    "            delta = entry[2] - competition_start\n",
    "            return delta.days\n",
    "        \n",
    "    def GetStateHoliday(entry):\n",
    "        if entry[5] == \"0\":\n",
    "            return 0\n",
    "        elif entry[5] == \"a\": # Public Holiday\n",
    "            return 1\n",
    "        elif entry[5] == \"b\": # Easter\n",
    "            return 2\n",
    "        else:\n",
    "            return 3\n",
    "            \n",
    "    def GetSchoolHoliday(entry):\n",
    "        return int(entry[6])\n",
    "    \n",
    "    ################################# End of local functions\n",
    "    \n",
    "    # Compute the number of days since competition\n",
    "    nb_days_since_competition = GetCompetTime(entry)\n",
    "    if nb_days_since_competition > 0:\n",
    "        corrected_nb_days_comp = nb_days_since_competition\n",
    "    else:\n",
    "        corrected_nb_days_comp = 0\n",
    "    \n",
    "    # Compute distance to competitor\n",
    "    if nb_days_since_competition>0:\n",
    "        dist_comp = store_info[entry[0]-1][3]\n",
    "    else:\n",
    "        dist_comp = 0\n",
    "    \n",
    "    \n",
    "    vector = np.array([\n",
    "        # Store information\n",
    "        dist_comp,                                          # Distance to competitor\n",
    "        dist_comp**2,                                       # Squared distance to competitor\n",
    "        ConvertAsortment(store_info[entry[0]-1][2]),        # Assortment\n",
    "        ConvertAsortment(store_info[entry[0]-1][2])**2,     # Squared assortment\n",
    "        1.0/(1+corrected_nb_days_comp),                     # Number of days since competition\n",
    "        corrected_nb_days_comp,                             \n",
    "        corrected_nb_days_comp**2,\n",
    "        # Day information\n",
    "        entry[1],                    # Day of the week\n",
    "        1 if (entry[1]==6 or entry[1]==7) else 0,          # is week-end ?\n",
    "        entry[2].day,                # Day of month\n",
    "        entry[2].month,              # Month\n",
    "        entry[2].year,               # Year\n",
    "        entry[4],                    # Promo\n",
    "        GetStateHoliday(entry),      # State Holiday\n",
    "        GetSchoolHoliday(entry)\n",
    "    ])\n",
    "    \n",
    "    return vector"
   ]
  },
  {
   "cell_type": "markdown",
   "metadata": {
    "deletable": true,
    "editable": true
   },
   "source": [
    "# 2. Creation of the training set / test set\n"
   ]
  },
  {
   "cell_type": "code",
   "execution_count": 4,
   "metadata": {
    "collapsed": false,
    "deletable": true,
    "editable": true
   },
   "outputs": [
    {
     "name": "stdout",
     "output_type": "stream",
     "text": [
      "Dimensions of the training set: (813767,15)\n",
      "Dimensions of the test set: (203442,15)\n",
      "[  1.56000000e+03   2.43360000e+06   1.00000000e+00   1.00000000e+00\n",
      "   2.56871307e-04   3.89200000e+03   1.51476640e+07   1.00000000e+00\n",
      "   0.00000000e+00   2.80000000e+01   4.00000000e+00   2.01400000e+03\n",
      "   1.00000000e+00   0.00000000e+00   0.00000000e+00]\n",
      "[813, 1, datetime.date(2014, 4, 28), 1, 1, '0', '0']\n",
      "2.36882624659e-05\n",
      "1.0\n"
     ]
    }
   ],
   "source": [
    "pourcentage_training_set = 80\n",
    "\n",
    "# Split the entries into training data and test data\n",
    "(tr_input, tr_label_sales, tr_label_customers,\n",
    "     te_input, te_label_sales, te_label_customers) = utils.separateTrainingSet(\n",
    "        input_data,\n",
    "        output_sales, \n",
    "        output_customers,\n",
    "        pourcentage_training_set)\n",
    "\n",
    "# Convert the labels into Numpy arrays\n",
    "training_labels = np.array(tr_label_sales)\n",
    "test_labels = np.array(te_label_sales)\n",
    "\n",
    "N = training_labels.shape[0]\n",
    "N_test = test_labels.shape[0]\n",
    "\n",
    "# Generate features of data set and test set\n",
    "training_set = np.zeros((N,D))\n",
    "for i in range(N):\n",
    "    training_set[i,:] = generateFeatureVector(tr_input[i])\n",
    "    \n",
    "test_set = np.zeros((N_test, D))\n",
    "for i in range(N_test):\n",
    "    test_set[i,:] = generateFeatureVector(te_input[i])\n",
    "    \n",
    "\n",
    "# Summary\n",
    "print(\"Dimensions of the training set: ({},{})\".format(\n",
    "        training_set.shape[0], training_set.shape[1]))\n",
    "print(\"Dimensions of the test set: ({},{})\".format(\n",
    "        test_set.shape[0], test_set.shape[1]))\n",
    "\n",
    "print(training_set[0,:])\n",
    "print(tr_input[0])\n",
    "print(training_set[:,4].min())\n",
    "print(training_set[:,4].max())\n"
   ]
  },
  {
   "cell_type": "markdown",
   "metadata": {
    "deletable": true,
    "editable": true
   },
   "source": [
    "# 3. Model training\n",
    "\n",
    "### Linear regression\n",
    "\n",
    "First, we test a simple linear regression, we expect it to perform poorly because of outliers."
   ]
  },
  {
   "cell_type": "code",
   "execution_count": 5,
   "metadata": {
    "collapsed": false,
    "deletable": true,
    "editable": true,
    "scrolled": true
   },
   "outputs": [
    {
     "name": "stdout",
     "output_type": "stream",
     "text": [
      "RMSPE avec la moyenne: 0.4872162372475241\n",
      "Coefficients: \n",
      "[ -3.53772870e-02   6.13349893e-07   1.14879722e+04  -2.79656069e+03\n",
      "  -2.02071229e+02  -3.93393017e-02   1.87101564e-06  -5.01681910e+02\n",
      "  -1.03765548e+03   6.74403949e+00   7.78943122e+01   1.72886017e+02\n",
      "   2.24404981e+03  -3.42379083e+03   2.45972659e+02]\n",
      "[ 4234.24045627  8118.81754819  6437.23519651  6643.0959677   4398.35568595\n",
      "  8420.51603125  2612.7799259   6132.39267424  7020.53267116  5955.79677983\n",
      "  6467.82066761  8819.66150009  3107.88854834  5403.20582991  8152.63831034\n",
      "  2857.52061364  3549.12665986  6449.77987046  3500.41217378  5827.55946483]\n",
      "[    0  5245  5787  2116  6544  7890  5140 12929  4191  9481  8651  8159\n",
      "  5894  8637  5927  3423  3525  7508  6590  4359]\n",
      "Linear regression without normalisation: RMSPE = 0.45515520064455167\n",
      "Linear regression with normalisation: RMSPE = 0.4551552007568232\n"
     ]
    }
   ],
   "source": [
    "print(\"RMSPE avec la moyenne: {}\".format(\n",
    "    utils.compute_RMSPE(test_labels, training_labels.mean()*np.ones((test_labels.shape[0])))))\n",
    "\n",
    "# Linear regression without normalization\n",
    "model_linreg = linear_model.LinearRegression()\n",
    "model_linreg.fit(training_set, training_labels)\n",
    "\n",
    "print(\"Coefficients: \")\n",
    "print(model_linreg.coef_)\n",
    "\n",
    "y_hat = model_linreg.predict(test_set)\n",
    "print(y_hat[:20])\n",
    "print(test_labels[:20])\n",
    "\n",
    "\n",
    "print(\"Linear regression without normalisation: RMSPE = {}\".format(\n",
    "    utils.compute_RMSPE(test_labels, y_hat)))\n",
    "\n",
    "# Linear regression with normalization\n",
    "model_linreg_n = linear_model.LinearRegression(fit_intercept=True,normalize=True,n_jobs=2)\n",
    "model_linreg_n.fit(training_set, training_labels)\n",
    "\n",
    "y_hat_n = model_linreg_n.predict(test_set)\n",
    "\n",
    "print(\"Linear regression with normalisation: RMSPE = {}\".format(\n",
    "    utils.compute_RMSPE(test_labels, y_hat_n)))\n"
   ]
  },
  {
   "cell_type": "markdown",
   "metadata": {
    "collapsed": true,
    "deletable": true,
    "editable": true
   },
   "source": [
    "The order of magnitude of the RMSPE with linear regression is 0.45, slightly better than just predicting the mean value of the sales in the training set. \n",
    "\n",
    "### Ridge regression\n",
    "\n",
    "Then, a more complicated model: a ridge regression to handle outliers. "
   ]
  },
  {
   "cell_type": "code",
   "execution_count": 6,
   "metadata": {
    "collapsed": false,
    "deletable": true,
    "editable": true
   },
   "outputs": [
    {
     "name": "stdout",
     "output_type": "stream",
     "text": [
      "Hyperparameter selected: alpha = 0.0001\n",
      "Ridge regression with normalisation: RMSPE = 0.45445514722268676\n"
     ]
    }
   ],
   "source": [
    "model_ridgereg = linear_model.RidgeCV(\n",
    "    alphas = [0.0001,0.001,0.003,0.01,0.1,1.0,10],\n",
    "    normalize=True)\n",
    "\n",
    "model_ridgereg.fit(training_set, training_labels)\n",
    "\n",
    "print(\"Hyperparameter selected: alpha = {}\".format(\n",
    "    model_ridgereg.alpha_))\n",
    "\n",
    "y_hat_rr = model_ridgereg.predict(test_set)\n",
    "\n",
    "print(\"Ridge regression with normalisation: RMSPE = {}\".format(\n",
    "    utils.compute_RMSPE(test_labels, y_hat_rr)))"
   ]
  },
  {
   "cell_type": "markdown",
   "metadata": {
    "collapsed": true,
    "deletable": true,
    "editable": true
   },
   "source": [
    "### Kernel Ridge Regression\n",
    "Then a regression with different kernels to better handle non-linearities"
   ]
  },
  {
   "cell_type": "code",
   "execution_count": 7,
   "metadata": {
    "collapsed": false,
    "deletable": true,
    "editable": true
   },
   "outputs": [
    {
     "name": "stdout",
     "output_type": "stream",
     "text": [
      "Kernel ridge regression with normalisation: RMSPE = 0.42507796959203153\n"
     ]
    }
   ],
   "source": [
    "#model_kridge = kernel_ridge.KernelRidge(alpha=0.001,kernel='rbf',gamma=0.01)\n",
    "#model_kridge = kernel_ridge.KernelRidge(alpha=0.001,kernel='rbf',gamma=0.0001)\n",
    "\n",
    "#model_kridge = kernel_ridge.KernelRidge(alpha=0.001,kernel='rbf',gamma=0.001)\n",
    "\n",
    "#model_kridge = kernel_ridge.KernelRidge(alpha=0.001,kernel='linear',degree=3, coef0=1)\n",
    "\n",
    "model_kridge = kernel_ridge.KernelRidge(alpha=0.001,kernel=\"sigmoid\", gamma=0.0002, coef0=0.00001)\n",
    "\n",
    "# Normalize dataset\n",
    "data_means = training_set.mean(axis=0)\n",
    "data_std = training_set.std(axis=0)\n",
    "\n",
    "n_training_set = np.zeros(training_set.shape)\n",
    "n_test_set = np.zeros(test_set.shape)\n",
    "\n",
    "for i in range(training_set.shape[0]):\n",
    "    n_training_set[i,:] = (training_set[i,:]-data_means)/data_std\n",
    "    \n",
    "for i in range(test_set.shape[0]):\n",
    "    n_test_set[i,:] = (test_set[i,:]-data_means)/data_std\n",
    "\n",
    "\"\"\"\n",
    "del training_set\n",
    "del test_set\n",
    "del input_data\n",
    "del te_input\n",
    "del tr_input\n",
    "\"\"\"\n",
    "\n",
    "# Train model\n",
    "model_kridge.fit(n_training_set[:1200,:], training_labels[:1200])\n",
    "\n",
    "# Evaluate model\n",
    "y_hat_kridge = model_kridge.predict(n_test_set)\n",
    "\n",
    "print(\"Kernel ridge regression with normalisation: RMSPE = {}\".format(\n",
    "    utils.compute_RMSPE(test_labels, y_hat_kridge)))\n"
   ]
  },
  {
   "cell_type": "code",
   "execution_count": 1,
   "metadata": {
    "collapsed": true,
    "deletable": true,
    "editable": true
   },
   "outputs": [],
   "source": [
    "# Regression tree\n"
   ]
  },
  {
   "cell_type": "markdown",
   "metadata": {},
   "source": [
    "# Save model\n",
    "We save the model using pickle."
   ]
  },
  {
   "cell_type": "code",
   "execution_count": 10,
   "metadata": {
    "collapsed": false
   },
   "outputs": [],
   "source": [
    "with open(path_base+settings[\"MODEL_PATH\"], \"wb\") as fid:\n",
    "    mpk = pickle.Pickler(fid)\n",
    "    mpk.dump(model_ridgereg)\n"
   ]
  },
  {
   "cell_type": "code",
   "execution_count": null,
   "metadata": {
    "collapsed": true
   },
   "outputs": [],
   "source": []
  }
 ],
 "metadata": {
  "kernelspec": {
   "display_name": "Python 3",
   "language": "python",
   "name": "python3"
  },
  "language_info": {
   "codemirror_mode": {
    "name": "ipython",
    "version": 3
   },
   "file_extension": ".py",
   "mimetype": "text/x-python",
   "name": "python",
   "nbconvert_exporter": "python",
   "pygments_lexer": "ipython3",
   "version": "3.5.2"
  }
 },
 "nbformat": 4,
 "nbformat_minor": 2
}
