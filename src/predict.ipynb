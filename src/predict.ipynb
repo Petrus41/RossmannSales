{
 "cells": [
  {
   "cell_type": "markdown",
   "metadata": {},
   "source": [
    "# Initialization\n",
    "\n",
    "Load data and model."
   ]
  },
  {
   "cell_type": "code",
   "execution_count": 12,
   "metadata": {
    "collapsed": false
   },
   "outputs": [
    {
     "name": "stdout",
     "output_type": "stream",
     "text": [
      "Settings loaded.\n",
      "Test data: 41088 lines loaded\n",
      "Store data: 1115 lines loaded.\n",
      "Model loaded\n"
     ]
    }
   ],
   "source": [
    "import numpy as np\n",
    "import json\n",
    "import datetime\n",
    "import pickle\n",
    "from sklearn import linear_model, kernel_ridge\n",
    "\n",
    "import utils\n",
    "\n",
    "\n",
    "path_base = \"../\"\n",
    "\n",
    "# Load settings\n",
    "with open(path_base+\"SETTINGS.json\", 'r') as fid:\n",
    "    settings = json.load(fid)\n",
    "    print(\"Settings loaded.\")\n",
    "    \n",
    "# Load data\n",
    "data = utils.loadTestData(path_base+settings[\"TEST_DATA_PATH\"])\n",
    "N_test = len(data)\n",
    "print(\"Test data: {} lines loaded\".format(N_test))\n",
    "store_info = utils.loadStoreInfo(path_base+settings[\"STORE_INFO_PATH\"])\n",
    "print(\"Store data: {} lines loaded.\".format(len(store_info)))\n",
    "\n",
    "\n",
    "# Load model\n",
    "with open(path_base+settings[\"MODEL_PATH\"], \"rb\") as fid:\n",
    "    mdpk = pickle.Unpickler(fid)\n",
    "    model = mdpk.load()\n",
    "    print(\"Model loaded\")\n"
   ]
  },
  {
   "cell_type": "markdown",
   "metadata": {},
   "source": [
    "# Generate features\n",
    "We use the same function as in train.ipynb."
   ]
  },
  {
   "cell_type": "code",
   "execution_count": 13,
   "metadata": {
    "collapsed": true
   },
   "outputs": [],
   "source": [
    "# Define dimension of the feature space\n",
    "D = 15\n",
    "\n",
    "# Generate a feature vectore from one entry\n",
    "def generateFeatureVector(entry):\n",
    "    ################################## Local functions\n",
    "    \n",
    "    # Local function to convert store asortment\n",
    "    def ConvertAsortment(assortment):\n",
    "        if assortment == \"a\":\n",
    "            return 1\n",
    "        elif assortment == \"b\":\n",
    "            return 2\n",
    "        else:\n",
    "            return 3\n",
    "        \n",
    "    def GetCompetTime(entry):\n",
    "        if store_info[entry[0]-1][4] == -1:\n",
    "            return 0   # No entry available\n",
    "        else:\n",
    "            competition_start = datetime.date(\n",
    "                store_info[entry[0]-1][5],  # Year\n",
    "                store_info[entry[0]-1][4],  # Month\n",
    "                1)                          # Day (no entry available)\n",
    "            \n",
    "            delta = entry[2] - competition_start\n",
    "            return delta.days\n",
    "        \n",
    "    def GetStateHoliday(entry):\n",
    "        if entry[5] == \"0\":\n",
    "            return 0\n",
    "        elif entry[5] == \"a\": # Public Holiday\n",
    "            return 1\n",
    "        elif entry[5] == \"b\": # Easter\n",
    "            return 2\n",
    "        else:\n",
    "            return 3\n",
    "            \n",
    "    def GetSchoolHoliday(entry):\n",
    "        return int(entry[6])\n",
    "    \n",
    "    ################################# End of local functions\n",
    "    \n",
    "    # Compute the number of days since competition\n",
    "    nb_days_since_competition = GetCompetTime(entry)\n",
    "    if nb_days_since_competition > 0:\n",
    "        corrected_nb_days_comp = nb_days_since_competition\n",
    "    else:\n",
    "        corrected_nb_days_comp = 0\n",
    "    \n",
    "    # Compute distance to competitor\n",
    "    if nb_days_since_competition>0:\n",
    "        dist_comp = store_info[entry[0]-1][3]\n",
    "    else:\n",
    "        dist_comp = 0\n",
    "    \n",
    "    \n",
    "    vector = np.array([\n",
    "        # Store information\n",
    "        dist_comp,                                          # Distance to competitor\n",
    "        dist_comp**2,                                       # Squared distance to competitor\n",
    "        ConvertAsortment(store_info[entry[0]-1][2]),        # Assortment\n",
    "        ConvertAsortment(store_info[entry[0]-1][2])**2,     # Squared assortment\n",
    "        1.0/(1+corrected_nb_days_comp),                     # Number of days since competition\n",
    "        corrected_nb_days_comp,                             \n",
    "        corrected_nb_days_comp**2,\n",
    "        # Day information\n",
    "        entry[1],                    # Day of the week\n",
    "        1 if (entry[1]==6 or entry[1]==7) else 0,          # is week-end ?\n",
    "        entry[2].day,                # Day of month\n",
    "        entry[2].month,              # Month\n",
    "        entry[2].year,               # Year\n",
    "        entry[4],                    # Promo\n",
    "        GetStateHoliday(entry),      # State Holiday\n",
    "        GetSchoolHoliday(entry)\n",
    "    ])\n",
    "    \n",
    "    return vector"
   ]
  },
  {
   "cell_type": "code",
   "execution_count": 14,
   "metadata": {
    "collapsed": false
   },
   "outputs": [
    {
     "name": "stdout",
     "output_type": "stream",
     "text": [
      "[  7.52000000e+03   5.65504000e+07   1.00000000e+00   1.00000000e+00\n",
      "   2.84090909e-03   3.51000000e+02   1.23201000e+05   4.00000000e+00\n",
      "   0.00000000e+00   1.70000000e+01   9.00000000e+00   2.01500000e+03\n",
      "   1.00000000e+00   0.00000000e+00   0.00000000e+00]\n"
     ]
    }
   ],
   "source": [
    "# Generate the matrix containing the test set\n",
    "test_set = np.zeros((N_test, D))\n",
    "\n",
    "for i in range(N_test):\n",
    "    test_set[i,:] = generateFeatureVector(data[i])\n",
    "    \n",
    "print(test_set[3,:])"
   ]
  },
  {
   "cell_type": "markdown",
   "metadata": {},
   "source": [
    "# Estimate outputs\n"
   ]
  },
  {
   "cell_type": "code",
   "execution_count": 15,
   "metadata": {
    "collapsed": false
   },
   "outputs": [
    {
     "name": "stdout",
     "output_type": "stream",
     "text": [
      "[ 7795.29427545  7438.7169107   7988.07017049  7671.90600939  8308.9477677\n",
      "  7742.27288023  8442.50978895  8332.8367198   7729.72463478  7855.02924571]\n"
     ]
    }
   ],
   "source": [
    "y_hat = model.predict(test_set)\n",
    "\n",
    "print(y_hat[:10])"
   ]
  },
  {
   "cell_type": "markdown",
   "metadata": {},
   "source": [
    "# Save outputs"
   ]
  },
  {
   "cell_type": "code",
   "execution_count": 16,
   "metadata": {
    "collapsed": true
   },
   "outputs": [],
   "source": [
    "with open(path_base+settings[\"SUBMISSION_PATH\"], \"w\") as fid:\n",
    "    # Write header line\n",
    "    fid.write(\"\\\"Id\\\",\\\"Sales\\\"\\n\")\n",
    "    \n",
    "    # Write predictions\n",
    "    for i in range(N_test):\n",
    "        fid.write(\"{},{}\\n\".format(i+1,y_hat[i]))"
   ]
  },
  {
   "cell_type": "code",
   "execution_count": null,
   "metadata": {
    "collapsed": true
   },
   "outputs": [],
   "source": []
  }
 ],
 "metadata": {
  "kernelspec": {
   "display_name": "Python 3",
   "language": "python",
   "name": "python3"
  },
  "language_info": {
   "codemirror_mode": {
    "name": "ipython",
    "version": 3
   },
   "file_extension": ".py",
   "mimetype": "text/x-python",
   "name": "python",
   "nbconvert_exporter": "python",
   "pygments_lexer": "ipython3",
   "version": "3.5.2"
  }
 },
 "nbformat": 4,
 "nbformat_minor": 2
}
