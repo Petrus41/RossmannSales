{
 "cells": [
  {
   "cell_type": "markdown",
   "metadata": {
    "deletable": true,
    "editable": true
   },
   "source": [
    "# Initialization\n",
    "\n",
    "Load data and model."
   ]
  },
  {
   "cell_type": "code",
   "execution_count": 1,
   "metadata": {
    "collapsed": false,
    "deletable": true,
    "editable": true
   },
   "outputs": [
    {
     "name": "stdout",
     "output_type": "stream",
     "text": [
      "Settings loaded.\n",
      "Test data: 41088 lines loaded\n",
      "Store data: 1115 lines loaded.\n",
      "Model loaded\n"
     ]
    }
   ],
   "source": [
    "import numpy as np\n",
    "import json\n",
    "import datetime\n",
    "import pickle\n",
    "from sklearn import linear_model, kernel_ridge, tree\n",
    "\n",
    "import utils\n",
    "\n",
    "\n",
    "path_base = \"../\"\n",
    "\n",
    "# Load settings\n",
    "with open(path_base+\"SETTINGS.json\", 'r') as fid:\n",
    "    settings = json.load(fid)\n",
    "    print(\"Settings loaded.\")\n",
    "    \n",
    "# Load data\n",
    "data = utils.loadTestData(path_base+settings[\"TEST_DATA_PATH\"])\n",
    "N_test = len(data)\n",
    "print(\"Test data: {} lines loaded\".format(N_test))\n",
    "store_info = utils.loadStoreInfo(path_base+settings[\"STORE_INFO_PATH\"])\n",
    "print(\"Store data: {} lines loaded.\".format(len(store_info)))\n",
    "\n",
    "\n",
    "# Load model\n",
    "with open(path_base+settings[\"MODEL_PATH\"], \"rb\") as fid:\n",
    "    mdpk = pickle.Unpickler(fid)\n",
    "    model = mdpk.load()\n",
    "    print(\"Model loaded\")\n"
   ]
  },
  {
   "cell_type": "markdown",
   "metadata": {
    "deletable": true,
    "editable": true
   },
   "source": [
    "# Generate features\n",
    "We use the same function as in train.ipynb."
   ]
  },
  {
   "cell_type": "code",
   "execution_count": 2,
   "metadata": {
    "collapsed": true,
    "deletable": true,
    "editable": true
   },
   "outputs": [],
   "source": [
    "# Define dimension of the feature space\n",
    "D = 38\n",
    "\n",
    "\n",
    "def generateFeatureVector(entry):\n",
    "    vector = np.zeros((D))\n",
    "    \n",
    "    ## Day features: \n",
    "    \n",
    "    # Features 0 to 6: Day of the week\n",
    "    vector[entry[1]-1] = 1.0\n",
    "    \n",
    "    # Feature 7: beginning of the month i.e. day in [1;10]\n",
    "    if entry[2].day <= 10:\n",
    "        vector[7] = 1.0\n",
    "        \n",
    "    # Feature 8: middle of the month i.e. day in [11;20]\n",
    "    if entry[2].day > 10 and entry[2].day <= 20:\n",
    "        vector[8] = 1.0\n",
    "        \n",
    "    # Feature 9: end of the month i.e. day > 20\n",
    "    if entry[2].day > 20:\n",
    "        vector[9] = 1.0\n",
    "        \n",
    "    # Features 10 to 21: month of the year\n",
    "    vector[9+entry[2].month] = 1.0\n",
    "    \n",
    "    # Feature 22: is the store open on that day ?\n",
    "    if entry[3] == 1:\n",
    "        vector[22] = 1.0\n",
    "        \n",
    "    # Feature 23: promo ?\n",
    "    if entry[4] == 1:\n",
    "        vector[23] = 1.0\n",
    "        \n",
    "    # Feature 24: public holiday\n",
    "    if entry[5] == 'a':\n",
    "        vector[24] = 1.0\n",
    "    \n",
    "    # Feature 25: Easter\n",
    "    if entry[5] == 'b':\n",
    "        vector[25] = 1.0\n",
    "        \n",
    "    # Feature 26: Christmas\n",
    "    if entry[5] == 'c':\n",
    "        vector[26] = 1.0\n",
    "        \n",
    "    # Feature 27: School holiday\n",
    "    if entry[6] == '1':\n",
    "        vector[27] = 1.0\n",
    "        \n",
    "    \n",
    "    ## Store Features:\n",
    "    # Features 28-31: store type\n",
    "    if store_info[entry[0]-1][1] == 'a':\n",
    "        vector[28] = 1.0\n",
    "    elif store_info[entry[0]-1][1] == 'b':\n",
    "        vector[29] = 1.0\n",
    "    elif store_info[entry[0]-1][1] == 'c':\n",
    "        vector[30] = 1.0\n",
    "    else:\n",
    "        vector[31] = 1.0\n",
    "        \n",
    "    # Features 32-34: Assortment\n",
    "    if store_info[entry[0]-1][2] == 'a':\n",
    "        vector[32] = 1.0\n",
    "    elif store_info[entry[0]-1][2] == 'b':\n",
    "        vector[33] = 1.0\n",
    "    else:\n",
    "        vector[34] = 1.0\n",
    "        \n",
    "    # Feature 35: Competition Distance \n",
    "    vector[35] = store_info[entry[0]-1][3]\n",
    "    \n",
    "    # Feature 36: Days since competition started (>0)\n",
    "    if store_info[entry[0]-1][4] != -1:\n",
    "        starting_day = datetime.date(\n",
    "            store_info[entry[0]-1][5],  # Year\n",
    "            store_info[entry[0]-1][4],  # Month\n",
    "            1)                          # Day (no data, so 1 by default)\n",
    "\n",
    "        delta = entry[2] - starting_day\n",
    "        if delta.days > 0:\n",
    "            vector[36] = delta.days\n",
    "        \n",
    "    # Feature 37: Promo2\n",
    "    vector[37] = store_info[entry[0]-1][6]\n",
    "    \n",
    "    return vector"
   ]
  },
  {
   "cell_type": "code",
   "execution_count": 3,
   "metadata": {
    "collapsed": false,
    "deletable": true,
    "editable": true
   },
   "outputs": [
    {
     "name": "stdout",
     "output_type": "stream",
     "text": [
      "[  0.00000000e+00   0.00000000e+00   0.00000000e+00   1.00000000e+00\n",
      "   0.00000000e+00   0.00000000e+00   0.00000000e+00   0.00000000e+00\n",
      "   1.00000000e+00   0.00000000e+00   0.00000000e+00   0.00000000e+00\n",
      "   0.00000000e+00   0.00000000e+00   0.00000000e+00   0.00000000e+00\n",
      "   0.00000000e+00   0.00000000e+00   1.00000000e+00   0.00000000e+00\n",
      "   0.00000000e+00   0.00000000e+00   1.00000000e+00   1.00000000e+00\n",
      "   0.00000000e+00   0.00000000e+00   0.00000000e+00   0.00000000e+00\n",
      "   1.00000000e+00   0.00000000e+00   0.00000000e+00   0.00000000e+00\n",
      "   1.00000000e+00   0.00000000e+00   0.00000000e+00   7.52000000e+03\n",
      "   3.51000000e+02   0.00000000e+00]\n"
     ]
    }
   ],
   "source": [
    "# Generate the matrix containing the test set\n",
    "test_set = np.zeros((N_test, D))\n",
    "\n",
    "for i in range(N_test):\n",
    "    test_set[i,:] = generateFeatureVector(data[i])\n",
    "    \n",
    "print(test_set[3,:])"
   ]
  },
  {
   "cell_type": "markdown",
   "metadata": {
    "deletable": true,
    "editable": true
   },
   "source": [
    "# Estimate outputs\n"
   ]
  },
  {
   "cell_type": "code",
   "execution_count": 4,
   "metadata": {
    "collapsed": false,
    "deletable": true,
    "editable": true
   },
   "outputs": [
    {
     "name": "stdout",
     "output_type": "stream",
     "text": [
      "[ 4767.          7631.83050847  9541.39051095  6942.55445545  8113.\n",
      "  5789.59868421  8335.76501767  8761.49885584  5608.          6366.32780411]\n"
     ]
    }
   ],
   "source": [
    "y_hat = model.predict(test_set)\n",
    "\n",
    "print(y_hat[:10])"
   ]
  },
  {
   "cell_type": "markdown",
   "metadata": {
    "deletable": true,
    "editable": true
   },
   "source": [
    "# Save outputs"
   ]
  },
  {
   "cell_type": "code",
   "execution_count": 5,
   "metadata": {
    "collapsed": true,
    "deletable": true,
    "editable": true
   },
   "outputs": [],
   "source": [
    "with open(path_base+settings[\"SUBMISSION_PATH\"], \"w\") as fid:\n",
    "    # Write header line\n",
    "    fid.write(\"\\\"Id\\\",\\\"Sales\\\"\\n\")\n",
    "    \n",
    "    # Write predictions\n",
    "    for i in range(N_test):\n",
    "        fid.write(\"{},{}\\n\".format(i+1,y_hat[i]))"
   ]
  },
  {
   "cell_type": "code",
   "execution_count": null,
   "metadata": {
    "collapsed": true,
    "deletable": true,
    "editable": true
   },
   "outputs": [],
   "source": []
  }
 ],
 "metadata": {
  "kernelspec": {
   "display_name": "Python 3",
   "language": "python",
   "name": "python3"
  },
  "language_info": {
   "codemirror_mode": {
    "name": "ipython",
    "version": 3
   },
   "file_extension": ".py",
   "mimetype": "text/x-python",
   "name": "python",
   "nbconvert_exporter": "python",
   "pygments_lexer": "ipython3",
   "version": "3.5.2"
  }
 },
 "nbformat": 4,
 "nbformat_minor": 2
}
